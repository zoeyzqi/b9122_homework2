{
 "cells": [
  {
   "cell_type": "markdown",
   "id": "898d3827-5e59-40a2-9d70-9d9be9285640",
   "metadata": {},
   "source": [
    "Question 1 part 1"
   ]
  },
  {
   "cell_type": "code",
   "execution_count": 1,
   "id": "4fb957c6-5b14-48ab-a2cb-c0a82b15e20a",
   "metadata": {
    "tags": []
   },
   "outputs": [],
   "source": [
    "#scan pages and collect all urls found within the pages\n",
    "from bs4 import BeautifulSoup\n",
    "import urllib.request\n",
    "import requests\n",
    "\n",
    "seed_url = 'https://www.federalreserve.gov/newsevents/pressreleases.htm'\n",
    "maxNumUrl = 5\n",
    "urls = [seed_url]\n",
    "seen = [seed_url]\n",
    "opened = []\n",
    "\n",
    "while len(urls) > 0 and len(opened) < maxNumUrl:\n",
    "    try:\n",
    "        curr_url=urls.pop(0)\n",
    "        req = urllib.request.Request(curr_url,headers={'User-Agent': 'Mozilla/5.0'})\n",
    "        webpage = urllib.request.urlopen(req).read()\n",
    "        opened.append(curr_url)\n",
    "    except Exception as ex:\n",
    "        continue\n",
    "        \n",
    "    soup = BeautifulSoup(webpage)\n",
    "    for tag in soup.find_all('a', href = True):\n",
    "        childUrl = tag['href']\n",
    "        o_childurl = childUrl\n",
    "        childUrl = urllib.parse.urljoin('https://www.federalreserve.gov/newsevents/pressreleases', childUrl)\n",
    "        if 'https://www.federalreserve.gov/newsevents/pressreleases' in childUrl and childUrl not in seen:\n",
    "            urls.append(childUrl)\n",
    "            seen.append(childUrl)\n",
    "        else:\n",
    "            continue"
   ]
  },
  {
   "cell_type": "code",
   "execution_count": 2,
   "id": "0cd36aed-bb4d-474a-af99-53d06609fc24",
   "metadata": {},
   "outputs": [],
   "source": [
    "#checking for the presence of the keyword and get the first 10 urls\n",
    "keyword = 'covid'\n",
    "resulturl = []\n",
    "for eachurl in seen:\n",
    "    if eachurl not in resulturl and eachurl != seed_url:\n",
    "        try:\n",
    "            req = urllib.request.Request(eachurl,headers={'User-Agent': 'Mozilla/5.0'})\n",
    "            webpage = urllib.request.urlopen(req).read()\n",
    "            soup = BeautifulSoup(webpage)\n",
    "            text = soup.get_text().lower()\n",
    "            if keyword in text:\n",
    "                resulturl.append(eachurl)\n",
    "        except:\n",
    "            pass\n",
    "        if len(resulturl) == 10:\n",
    "            break"
   ]
  },
  {
   "cell_type": "code",
   "execution_count": 3,
   "id": "fccd48bb-300d-44d1-8ebd-aa405fc5eae7",
   "metadata": {},
   "outputs": [
    {
     "name": "stdout",
     "output_type": "stream",
     "text": [
      "seed_page:  https://www.federalreserve.gov/newsevents/pressreleases.htm \n",
      "\n",
      "10 page urls that contain the word 'covid' found within the seed_page: \n",
      "https://www.federalreserve.gov/newsevents/pressreleases/2021-press.htm\n",
      "https://www.federalreserve.gov/newsevents/pressreleases/2020-press.htm\n",
      "https://www.federalreserve.gov/newsevents/pressreleases/monetary20220615a.htm\n",
      "https://www.federalreserve.gov/newsevents/pressreleases/monetary20220504a.htm\n",
      "https://www.federalreserve.gov/newsevents/pressreleases/monetary20220126a.htm\n",
      "https://www.federalreserve.gov/newsevents/pressreleases/other20220523a.htm\n",
      "https://www.federalreserve.gov/newsevents/pressreleases/enforcement20220405a.htm\n",
      "https://www.federalreserve.gov/newsevents/pressreleases/other20220225a.htm\n",
      "https://www.federalreserve.gov/newsevents/pressreleases/bcreg20220214a.htm\n",
      "https://www.federalreserve.gov/newsevents/pressreleases/other20220114a.htm\n"
     ]
    }
   ],
   "source": [
    "#output the result\n",
    "print(\"seed_page: \",seed_url,'\\n')\n",
    "print(\"10 page urls that contain the word 'covid' found within the seed_page: \")\n",
    "for each in resulturl:\n",
    "    print(each)"
   ]
  },
  {
   "cell_type": "code",
   "execution_count": null,
   "id": "c49bf123-b15a-4858-a1ce-38ac76ff24d5",
   "metadata": {},
   "outputs": [],
   "source": []
  },
  {
   "cell_type": "code",
   "execution_count": null,
   "id": "5cf03cc7-202a-4e2d-a554-2a693b8587d1",
   "metadata": {
    "tags": []
   },
   "outputs": [],
   "source": []
  },
  {
   "cell_type": "markdown",
   "id": "98d54b1e-948f-4f12-9a01-79fe0b752f81",
   "metadata": {},
   "source": [
    "Question 1 part 2"
   ]
  },
  {
   "cell_type": "code",
   "execution_count": 4,
   "id": "3aa8ba96-3278-4a45-82be-87c580d68b03",
   "metadata": {},
   "outputs": [],
   "source": [
    "#scan pages and collect all urls found within the pages\n",
    "from bs4 import BeautifulSoup\n",
    "import urllib.request\n",
    "import requests\n",
    "\n",
    "seed_url = 'https://www.sec.gov/news/pressreleases'\n",
    "maxNumUrl = 5\n",
    "urls = [seed_url]\n",
    "seen = [seed_url]\n",
    "opened = []\n",
    "urltext = ['seed_url']\n",
    "\n",
    "while len(urls) > 0 and len(opened) < maxNumUrl:\n",
    "    try:\n",
    "        curr_url=urls.pop(0)\n",
    "        req = urllib.request.Request(curr_url,headers={'User-Agent': 'Mozilla/5.0'})\n",
    "        webpage = urllib.request.urlopen(req).read()\n",
    "        opened.append(curr_url)\n",
    "    except Exception as ex:\n",
    "        continue\n",
    "        \n",
    "    soup = BeautifulSoup(webpage)\n",
    "    for tag in soup.find_all('a', href = True):\n",
    "        childUrl = tag['href']\n",
    "        o_childurl = childUrl\n",
    "        childUrl = urllib.parse.urljoin('https://www.sec.gov/news/press-release', childUrl)\n",
    "        if 'https://www.sec.gov/news/press-release' in childUrl and childUrl not in seen:\n",
    "            urls.append(childUrl)\n",
    "            seen.append(childUrl)\n",
    "            urltext.append(tag.get_text())\n",
    "        else:\n",
    "            continue"
   ]
  },
  {
   "cell_type": "code",
   "execution_count": 5,
   "id": "beb332aa-4b46-4484-a3cf-19bdd8843964",
   "metadata": {},
   "outputs": [],
   "source": [
    "#checking for the presence of the keyword\n",
    "keyword = 'charges'\n",
    "resulturl = []\n",
    "resulttext = []\n",
    "for i in range(len(seen)):\n",
    "    if seen[i] not in resulturl and seen[i] != seed_url:\n",
    "        try:\n",
    "            req = urllib.request.Request(seen[i],headers={'User-Agent': 'Mozilla/5.0'})\n",
    "            webpage = urllib.request.urlopen(req).read()\n",
    "            text = BeautifulSoup(webpage).get_text()\n",
    "            if keyword in text.lower():\n",
    "                resulturl.append(seen[i])\n",
    "                resulttext.append(urltext[i].strip())\n",
    "        except:\n",
    "            pass\n",
    "        if len(resulturl) == 20:\n",
    "            break"
   ]
  },
  {
   "cell_type": "code",
   "execution_count": 6,
   "id": "20e15821-2889-42fe-8004-1b2c6ddb18c7",
   "metadata": {
    "tags": []
   },
   "outputs": [
    {
     "name": "stdout",
     "output_type": "stream",
     "text": [
      "seed_page:  https://www.sec.gov/news/pressreleases \n",
      "\n",
      "20 page urls that contain the word 'charges' found within the seed_page: \n",
      "url:  https://www.sec.gov/news/press-release/2022-183\n",
      "url text:  SEC Charges Kim Kardashian for Unlawfully Touting Crypto Security \n",
      "\n",
      "url:  https://www.sec.gov/news/press-release/2022-182\n",
      "url text:  SEC Charges Eight in Scheme to Fraudulently Promote Securities Offerings \n",
      "\n",
      "url:  https://www.sec.gov/news/press-release/2022-181\n",
      "url text:  SEC Charges Two Canadian Software Engineers with Insider Trading \n",
      "\n",
      "url:  https://www.sec.gov/news/press-release/2022-180\n",
      "url text:  SEC Charges Audit Firm RSM and Three Senior-Level Employees with Failure to Properly Conduct Client Audits \n",
      "\n",
      "url:  https://www.sec.gov/news/press-release/2022-179\n",
      "url text:  Barclays Agrees to a $361 Million Settlement to Resolve SEC Charges Relating to Over-Issuances of Securities \n",
      "\n",
      "url:  https://www.sec.gov/news/press-release/2022-178\n",
      "url text:  SEC Charges Man for Defrauding Investors out of Millions of Dollars by Posing as Hedge Fund Billionaire \n",
      "\n",
      "url:  https://www.sec.gov/news/press-release/2022-176\n",
      "url text:  Deloitte’s Chinese Affiliate to Pay $20 Million Penalty for Asking Audit Clients to Conduct Their Own Audit Work \n",
      "\n",
      "url:  https://www.sec.gov/news/press-release/2022-175\n",
      "url text:  SEC Charges The Hydrogen Technology Corp. and its Former CEO for Market Manipulation of Crypto Asset Securities \n",
      "\n",
      "url:  https://www.sec.gov/news/press-release/2022-174\n",
      "url text:  SEC Charges 16 Wall Street Firms with Widespread Recordkeeping Failures \n",
      "\n",
      "url:  https://www.sec.gov/news/press-release/2022-173\n",
      "url text:  SEC Charges Oracle a Second Time for Violations of the Foreign Corrupt Practices Act \n",
      "\n",
      "url:  https://www.sec.gov/news/press-release/2022-172\n",
      "url text:  SEC Charges Father-Son Duo and Associate in Market Manipulation Schemes Resulting in a New Jersey Deli with a $100 Million Valuation \n",
      "\n",
      "url:  https://www.sec.gov/news/press-release/2022-171\n",
      "url text:  SEC Charges Compass Minerals for Misleading Investors about Its Operations at World’s Largest Underground Salt Mine \n",
      "\n",
      "url:  https://www.sec.gov/news/press-release/2022-170\n",
      "url text:  Boeing to Pay $200 Million to Settle SEC Charges that it Misled Investors about the 737 MAX \n",
      "\n",
      "url:  https://www.sec.gov/news/press-release/2022-169\n",
      "url text:  SEC Charges Cheetah Mobile’s CEO and its Former President with Insider Trading \n",
      "\n",
      "url:  https://www.sec.gov/news/press-release/2022-168\n",
      "url text:  Morgan Stanley Smith Barney to Pay $35 Million for Extensive Failures to Safeguard Personal Information of Millions of Customers \n",
      "\n",
      "url:  https://www.sec.gov/news/press-release/2022-167\n",
      "url text:  Sparkster to Pay $35 Million to Harmed Investor Fund for Unregistered Crypto Asset Offering \n",
      "\n",
      "url:  https://www.sec.gov/news/press-release/2022-164\n",
      "url text:  SEC Charges Gol Intelligent Airlines, Brazil’s Second Largest Airline, with FCPA Violations \n",
      "\n",
      "url:  https://www.sec.gov/news/press-release/2022-163\n",
      "url text:  SEC Charges Loop Capital Markets in First Action against Broker-Dealer for Violating Municipal Advisor Registration Rule \n",
      "\n",
      "url:  https://www.sec.gov/news/press-release/2022-161\n",
      "url text:  SEC Charges Four Underwriters in First Actions Enforcing Municipal Bond Disclosure Law \n",
      "\n",
      "url:  https://www.sec.gov/news/press-release/2022-160\n",
      "url text:  SEC Charges VMware with Misleading Investors by Obscuring Financial Performance \n",
      "\n"
     ]
    }
   ],
   "source": [
    "#output the result\n",
    "print(\"seed_page: \",seed_url,'\\n')\n",
    "print(\"20 page urls that contain the word 'charges' found within the seed_page: \")\n",
    "for i in range(len(resulturl)):\n",
    "    print('url: ',resulturl[i])\n",
    "    print('url text: ',resulttext[i].strip(),'\\n')"
   ]
  },
  {
   "cell_type": "code",
   "execution_count": null,
   "id": "511e0a35-1c53-4853-b953-30a7db78e2f5",
   "metadata": {},
   "outputs": [],
   "source": []
  }
 ],
 "metadata": {
  "kernelspec": {
   "display_name": "Python 3",
   "language": "python",
   "name": "python3"
  },
  "language_info": {
   "codemirror_mode": {
    "name": "ipython",
    "version": 3
   },
   "file_extension": ".py",
   "mimetype": "text/x-python",
   "name": "python",
   "nbconvert_exporter": "python",
   "pygments_lexer": "ipython3",
   "version": "3.8.8"
  }
 },
 "nbformat": 4,
 "nbformat_minor": 5
}
